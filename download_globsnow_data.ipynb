{
 "cells": [
  {
   "cell_type": "markdown",
   "id": "b8f4d16b",
   "metadata": {},
   "source": [
    "this code is to download SWE data from the globsnow project, as files as individually posted by day and downloading by hand is incredibly time consuming."
   ]
  },
  {
   "cell_type": "code",
   "execution_count": 13,
   "id": "6da5c4ff",
   "metadata": {},
   "outputs": [
    {
     "name": "stdout",
     "output_type": "stream",
     "text": [
      "20100128\n",
      "20100129\n",
      "20100201\n",
      "20100212\n",
      "20100229\n",
      "20100230\n",
      "20100231\n",
      "20100425\n",
      "20100430\n",
      "20100431\n",
      "20100508\n",
      "20100511\n",
      "20100512\n",
      "20100519\n",
      "20100520\n",
      "20100521\n",
      "20100522\n",
      "20100523\n",
      "20100524\n",
      "20100525\n",
      "20100526\n",
      "20100527\n",
      "20100528\n",
      "20100529\n",
      "20100530\n",
      "20100531\n",
      "20100901\n",
      "20100902\n",
      "20100903\n",
      "20100904\n",
      "20100905\n",
      "20100906\n",
      "20100907\n",
      "20100908\n",
      "20100909\n",
      "20100910\n",
      "20100911\n",
      "20100912\n",
      "20100913\n",
      "20100914\n",
      "20100915\n",
      "20100916\n",
      "20100917\n",
      "20100918\n",
      "20100919\n",
      "20100920\n",
      "20100921\n",
      "20100922\n",
      "20100923\n",
      "20100924\n",
      "20100925\n",
      "20100926\n",
      "20100927\n",
      "20100928\n",
      "20100929\n",
      "20100931\n",
      "20101002\n",
      "20101003\n",
      "20101004\n",
      "20101005\n",
      "20101006\n",
      "20101007\n",
      "20101008\n",
      "20101009\n",
      "20101010\n",
      "20101011\n",
      "20101131\n",
      "20101202\n",
      "20101220\n"
     ]
    }
   ],
   "source": [
    "import urllib\n",
    "import math\n",
    "\n",
    "#start: must be changed for each year\n",
    "year = 20100101 \n",
    "\n",
    "while year >= 20100101 and year <= 20101231: #dates should be changed\n",
    "    \n",
    "    # get day month and year separated out\n",
    "    y = math.floor(year/10000)\n",
    "    md = year - y*10000\n",
    "    m = math.floor(md/100)\n",
    "    d = year - y*10000 - m*100\n",
    "\n",
    "    # only try to write file if is it not summer and a possible day of the year\n",
    "    if m <= 12 and m != 6 and m != 7 and m != 8 and d <= 31 and d != 0:\n",
    "        \n",
    "        filename = str(year) + '_northern_hemisphere_swe_0.25grid.nc'\n",
    "    \n",
    "        url = 'https://www.globsnow.info/swe/archive_v3.0/L3A_daily_SWE/NetCDF4/' + filename\n",
    "        path = '/Users/rosiekrasnoff/Desktop/SWE_final_project/GlobSnow_data' + filename\n",
    "    \n",
    "        try:\n",
    "            urllib.request.urlretrieve(url, path)\n",
    "        except:\n",
    "            print(year)\n",
    "            pass\n",
    "        year += 1\n",
    "    else:\n",
    "        year += 1\n"
   ]
  },
  {
   "cell_type": "code",
   "execution_count": 3,
   "id": "5cd24d64",
   "metadata": {},
   "outputs": [
    {
     "name": "stdout",
     "output_type": "stream",
     "text": [
      "0\n",
      "1\n",
      "2\n",
      "3\n",
      "4\n",
      "5\n",
      "6\n",
      "7\n",
      "8\n",
      "9\n",
      "10\n",
      "11\n"
     ]
    }
   ],
   "source": [
    "year_o = '2000'\n",
    "for y in range(10): #years of data\n",
    "    month_o = '01'\n",
    "    for m in range(12): #months\n",
    "for x in range(365):\n",
    "    "
   ]
  },
  {
   "cell_type": "code",
   "execution_count": null,
   "id": "1d182e7f",
   "metadata": {},
   "outputs": [],
   "source": []
  }
 ],
 "metadata": {
  "kernelspec": {
   "display_name": "Python 3 (ipykernel)",
   "language": "python",
   "name": "python3"
  },
  "language_info": {
   "codemirror_mode": {
    "name": "ipython",
    "version": 3
   },
   "file_extension": ".py",
   "mimetype": "text/x-python",
   "name": "python",
   "nbconvert_exporter": "python",
   "pygments_lexer": "ipython3",
   "version": "3.10.6"
  }
 },
 "nbformat": 4,
 "nbformat_minor": 5
}
